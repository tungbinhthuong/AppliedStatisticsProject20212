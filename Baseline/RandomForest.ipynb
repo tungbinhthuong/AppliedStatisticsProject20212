{
 "cells": [
  {
   "cell_type": "code",
   "execution_count": 1,
   "metadata": {},
   "outputs": [],
   "source": [
    "import pandas as pd\n",
    "import numpy as np"
   ]
  },
  {
   "cell_type": "code",
   "execution_count": 2,
   "metadata": {},
   "outputs": [],
   "source": [
    "data_train = pd.read_csv(\"C:/Users/Admin/Desktop/20212/AppliedStatisticsProject20212/dataset/data_train.csv\")\n",
    "data_test = pd.read_csv(\"C:/Users/Admin/Desktop/20212/AppliedStatisticsProject20212/dataset/data_test.csv\")"
   ]
  },
  {
   "cell_type": "code",
   "execution_count": 3,
   "metadata": {},
   "outputs": [],
   "source": [
    "data_train = data_train.set_index(['user_id', 'product_id'])\n",
    "data_test = data_test.set_index(['user_id', 'product_id'])"
   ]
  },
  {
   "cell_type": "code",
   "execution_count": 4,
   "metadata": {},
   "outputs": [],
   "source": [
    "from sklearn.model_selection import train_test_split\n",
    "X = data_train.drop('reordered', axis=1)\n",
    "y = data_train.reordered\n",
    "X_train, X_val, y_train, y_val = train_test_split(X, y, stratify = y,\n",
    "                                                 test_size = 0.3, random_state = 42)"
   ]
  },
  {
   "cell_type": "code",
   "execution_count": 5,
   "metadata": {},
   "outputs": [
    {
     "data": {
      "text/html": [
       "<div>\n",
       "<style scoped>\n",
       "    .dataframe tbody tr th:only-of-type {\n",
       "        vertical-align: middle;\n",
       "    }\n",
       "\n",
       "    .dataframe tbody tr th {\n",
       "        vertical-align: top;\n",
       "    }\n",
       "\n",
       "    .dataframe thead th {\n",
       "        text-align: right;\n",
       "    }\n",
       "</style>\n",
       "<table border=\"1\" class=\"dataframe\">\n",
       "  <thead>\n",
       "    <tr style=\"text-align: right;\">\n",
       "      <th></th>\n",
       "      <th></th>\n",
       "      <th>uxp_total_bought</th>\n",
       "      <th>uxp_reorder_ratio</th>\n",
       "      <th>u_total_orders</th>\n",
       "      <th>u_reordered_ratio</th>\n",
       "      <th>p_total_purchases</th>\n",
       "      <th>p_reorder_ratio</th>\n",
       "    </tr>\n",
       "    <tr>\n",
       "      <th>user_id</th>\n",
       "      <th>product_id</th>\n",
       "      <th></th>\n",
       "      <th></th>\n",
       "      <th></th>\n",
       "      <th></th>\n",
       "      <th></th>\n",
       "      <th></th>\n",
       "    </tr>\n",
       "  </thead>\n",
       "  <tbody>\n",
       "    <tr>\n",
       "      <th rowspan=\"5\" valign=\"top\">1</th>\n",
       "      <th>196</th>\n",
       "      <td>10</td>\n",
       "      <td>1.000000</td>\n",
       "      <td>10</td>\n",
       "      <td>0.694915</td>\n",
       "      <td>35791</td>\n",
       "      <td>0.776480</td>\n",
       "    </tr>\n",
       "    <tr>\n",
       "      <th>10258</th>\n",
       "      <td>9</td>\n",
       "      <td>1.000000</td>\n",
       "      <td>10</td>\n",
       "      <td>0.694915</td>\n",
       "      <td>1946</td>\n",
       "      <td>0.713772</td>\n",
       "    </tr>\n",
       "    <tr>\n",
       "      <th>10326</th>\n",
       "      <td>1</td>\n",
       "      <td>0.166667</td>\n",
       "      <td>10</td>\n",
       "      <td>0.694915</td>\n",
       "      <td>5526</td>\n",
       "      <td>0.652009</td>\n",
       "    </tr>\n",
       "    <tr>\n",
       "      <th>12427</th>\n",
       "      <td>10</td>\n",
       "      <td>1.000000</td>\n",
       "      <td>10</td>\n",
       "      <td>0.694915</td>\n",
       "      <td>6476</td>\n",
       "      <td>0.740735</td>\n",
       "    </tr>\n",
       "    <tr>\n",
       "      <th>13032</th>\n",
       "      <td>3</td>\n",
       "      <td>0.333333</td>\n",
       "      <td>10</td>\n",
       "      <td>0.694915</td>\n",
       "      <td>3751</td>\n",
       "      <td>0.657158</td>\n",
       "    </tr>\n",
       "  </tbody>\n",
       "</table>\n",
       "</div>"
      ],
      "text/plain": [
       "                    uxp_total_bought  uxp_reorder_ratio  u_total_orders  \\\n",
       "user_id product_id                                                        \n",
       "1       196                       10           1.000000              10   \n",
       "        10258                      9           1.000000              10   \n",
       "        10326                      1           0.166667              10   \n",
       "        12427                     10           1.000000              10   \n",
       "        13032                      3           0.333333              10   \n",
       "\n",
       "                    u_reordered_ratio  p_total_purchases  p_reorder_ratio  \n",
       "user_id product_id                                                         \n",
       "1       196                  0.694915              35791         0.776480  \n",
       "        10258                0.694915               1946         0.713772  \n",
       "        10326                0.694915               5526         0.652009  \n",
       "        12427                0.694915               6476         0.740735  \n",
       "        13032                0.694915               3751         0.657158  "
      ]
     },
     "execution_count": 5,
     "metadata": {},
     "output_type": "execute_result"
    }
   ],
   "source": [
    "X.head()"
   ]
  },
  {
   "cell_type": "code",
   "execution_count": 6,
   "metadata": {},
   "outputs": [
    {
     "data": {
      "text/html": [
       "<div>\n",
       "<style scoped>\n",
       "    .dataframe tbody tr th:only-of-type {\n",
       "        vertical-align: middle;\n",
       "    }\n",
       "\n",
       "    .dataframe tbody tr th {\n",
       "        vertical-align: top;\n",
       "    }\n",
       "\n",
       "    .dataframe thead th {\n",
       "        text-align: right;\n",
       "    }\n",
       "</style>\n",
       "<table border=\"1\" class=\"dataframe\">\n",
       "  <thead>\n",
       "    <tr style=\"text-align: right;\">\n",
       "      <th></th>\n",
       "      <th>reordered</th>\n",
       "      <th>uxp_total_bought</th>\n",
       "      <th>uxp_reorder_ratio</th>\n",
       "      <th>u_total_orders</th>\n",
       "      <th>u_reordered_ratio</th>\n",
       "      <th>p_total_purchases</th>\n",
       "      <th>p_reorder_ratio</th>\n",
       "    </tr>\n",
       "  </thead>\n",
       "  <tbody>\n",
       "    <tr>\n",
       "      <th>0</th>\n",
       "      <td>0.0</td>\n",
       "      <td>1</td>\n",
       "      <td>0.030303</td>\n",
       "      <td>37</td>\n",
       "      <td>0.825843</td>\n",
       "      <td>6475</td>\n",
       "      <td>0.441544</td>\n",
       "    </tr>\n",
       "    <tr>\n",
       "      <th>1</th>\n",
       "      <td>0.0</td>\n",
       "      <td>1</td>\n",
       "      <td>1.000000</td>\n",
       "      <td>19</td>\n",
       "      <td>0.666667</td>\n",
       "      <td>1002</td>\n",
       "      <td>0.181637</td>\n",
       "    </tr>\n",
       "    <tr>\n",
       "      <th>2</th>\n",
       "      <td>0.0</td>\n",
       "      <td>2</td>\n",
       "      <td>0.064516</td>\n",
       "      <td>33</td>\n",
       "      <td>0.794118</td>\n",
       "      <td>6719</td>\n",
       "      <td>0.284566</td>\n",
       "    </tr>\n",
       "    <tr>\n",
       "      <th>3</th>\n",
       "      <td>0.0</td>\n",
       "      <td>13</td>\n",
       "      <td>0.481481</td>\n",
       "      <td>38</td>\n",
       "      <td>0.893506</td>\n",
       "      <td>874</td>\n",
       "      <td>0.586957</td>\n",
       "    </tr>\n",
       "    <tr>\n",
       "      <th>4</th>\n",
       "      <td>0.0</td>\n",
       "      <td>3</td>\n",
       "      <td>0.068182</td>\n",
       "      <td>99</td>\n",
       "      <td>0.815073</td>\n",
       "      <td>3340</td>\n",
       "      <td>0.608683</td>\n",
       "    </tr>\n",
       "  </tbody>\n",
       "</table>\n",
       "</div>"
      ],
      "text/plain": [
       "   reordered  uxp_total_bought  uxp_reorder_ratio  u_total_orders  \\\n",
       "0        0.0                 1           0.030303              37   \n",
       "1        0.0                 1           1.000000              19   \n",
       "2        0.0                 2           0.064516              33   \n",
       "3        0.0                13           0.481481              38   \n",
       "4        0.0                 3           0.068182              99   \n",
       "\n",
       "   u_reordered_ratio  p_total_purchases  p_reorder_ratio  \n",
       "0           0.825843               6475         0.441544  \n",
       "1           0.666667               1002         0.181637  \n",
       "2           0.794118               6719         0.284566  \n",
       "3           0.893506                874         0.586957  \n",
       "4           0.815073               3340         0.608683  "
      ]
     },
     "execution_count": 6,
     "metadata": {},
     "output_type": "execute_result"
    }
   ],
   "source": [
    "#Using SMOTE to handle imbalanced classes\n",
    "from imblearn.over_sampling import SMOTE\n",
    "\n",
    "sm = SMOTE(sampling_strategy='minority', random_state=42)\n",
    "\n",
    "# Fit the model to generate the data.\n",
    "oversampled_trainX, oversampled_trainY = sm.fit_resample(X_train, y_train)\n",
    "oversampled_train = pd.concat([pd.DataFrame(oversampled_trainY), pd.DataFrame(oversampled_trainX)], axis=1)\n",
    "oversampled_train.head()\n",
    "# oversampled_train.columns = X.columns"
   ]
  },
  {
   "cell_type": "code",
   "execution_count": null,
   "metadata": {},
   "outputs": [],
   "source": [
    "from sklearn.ensemble import RandomForestClassifier\n",
    "model = RandomForestClassifier(n_estimators=50, max_depth=20,min_samples_split=3,n_jobs=-1, random_state = 42)\n",
    "model.fit(oversampled_train.drop('reordered', axis=1), oversampled_train.reordered)"
   ]
  },
  {
   "cell_type": "code",
   "execution_count": 13,
   "metadata": {},
   "outputs": [
    {
     "name": "stdout",
     "output_type": "stream",
     "text": [
      "Test Dataset\n",
      "              precision    recall  f1-score   support\n",
      "\n",
      "         0.0       0.95      0.87      0.91   2293393\n",
      "         1.0       0.31      0.53      0.39    249006\n",
      "\n",
      "    accuracy                           0.84   2542399\n",
      "   macro avg       0.63      0.70      0.65   2542399\n",
      "weighted avg       0.88      0.84      0.86   2542399\n",
      "\n",
      "Train Dataset\n",
      "              precision    recall  f1-score   support\n",
      "\n",
      "         0.0       0.95      0.88      0.92   5352444\n",
      "         1.0       0.36      0.61      0.45    579818\n",
      "\n",
      "    accuracy                           0.86   5932262\n",
      "   macro avg       0.66      0.75      0.68   5932262\n",
      "weighted avg       0.90      0.86      0.87   5932262\n",
      "\n"
     ]
    }
   ],
   "source": [
    "from sklearn.metrics import classification_report\n",
    "predictions = model.predict(X_val)\n",
    "print(\"Test Dataset\")\n",
    "print(classification_report(y_val, predictions))\n",
    "\n",
    "\n",
    "predictions_train = model.predict(X_train)\n",
    "print(\"Train Dataset\")\n",
    "print(classification_report(y_train, predictions_train))"
   ]
  },
  {
   "cell_type": "code",
   "execution_count": 14,
   "metadata": {},
   "outputs": [
    {
     "name": "stderr",
     "output_type": "stream",
     "text": [
      "C:\\Users\\Admin\\anaconda3\\lib\\site-packages\\sklearn\\utils\\deprecation.py:87: FutureWarning: Function plot_confusion_matrix is deprecated; Function `plot_confusion_matrix` is deprecated in 1.0 and will be removed in 1.2. Use one of the class methods: ConfusionMatrixDisplay.from_predictions or ConfusionMatrixDisplay.from_estimator.\n",
      "  warnings.warn(msg, category=FutureWarning)\n"
     ]
    },
    {
     "name": "stdout",
     "output_type": "stream",
     "text": [
      "Normalized confusion matrix\n",
      "[[0.87029654 0.12970346]\n",
      " [0.46645061 0.53354939]]\n"
     ]
    },
    {
     "data": {
      "text/plain": [
       "<Figure size 864x864 with 0 Axes>"
      ]
     },
     "metadata": {},
     "output_type": "display_data"
    },
    {
     "data": {
      "image/png": "[encoded data removed]",
      "text/plain": [
       "<Figure size 360x360 with 2 Axes>"
      ]
     },
     "metadata": {
      "needs_background": "light"
     },
     "output_type": "display_data"
    }
   ],
   "source": [
    "from sklearn.metrics import plot_confusion_matrix\n",
    "import matplotlib.pyplot as plt\n",
    "# Plot normalized confusion matrix\n",
    "class_names = [0,1]\n",
    "plt.figure(figsize=(12,12))\n",
    "disp = plot_confusion_matrix(xg_cl, X_val, y_val,\n",
    "                             display_labels=class_names,\n",
    "                             cmap=plt.cm.Blues,\n",
    "                             normalize=\"true\")\n",
    "disp.ax_.set_title(\"Normalized confusion matrix\")\n",
    "\n",
    "print(\"Normalized confusion matrix\")\n",
    "print(disp.confusion_matrix)\n",
    "plt.grid(b=None)\n",
    "fig = plt.gcf()\n",
    "fig.set_size_inches(5,5)\n",
    "plt.show()"
   ]
  },
  {
   "cell_type": "code",
   "execution_count": null,
   "metadata": {},
   "outputs": [],
   "source": []
  }
 ],
 "metadata": {
  "kernelspec": {
   "display_name": "Python 3",
   "language": "python",
   "name": "python3"
  },
  "language_info": {
   "codemirror_mode": {
    "name": "ipython",
    "version": 3
   },
   "file_extension": ".py",
   "mimetype": "text/x-python",
   "name": "python",
   "nbconvert_exporter": "python",
   "pygments_lexer": "ipython3",
   "version": "3.8.5"
  }
 },
 "nbformat": 4,
 "nbformat_minor": 4
}
